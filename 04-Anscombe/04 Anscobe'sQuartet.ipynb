{
 "cells": [
  {
   "cell_type": "code",
   "execution_count": null,
   "id": "a3b3c888-e56a-4447-b3fa-57c87651f604",
   "metadata": {},
   "outputs": [],
   "source": []
  },
  {
   "cell_type": "code",
   "execution_count": 2,
   "id": "c1b16ad3-dd0b-4eb7-ad83-e9cba7571b82",
   "metadata": {},
   "outputs": [],
   "source": [
    "import pandas as pd\n",
    "import plotly.express as px\n",
    "import statistics\n",
    "df = pd.read_csv(\"anscombe.csv\")"
   ]
  },
  {
   "cell_type": "code",
   "execution_count": 4,
   "id": "e64b1182-dd40-40f0-a543-d242cac18b42",
   "metadata": {},
   "outputs": [
    {
     "name": "stdout",
     "output_type": "stream",
     "text": [
      "The Average of all x values is 9.00 and the stdev is 3.20\n",
      "The Average of all y values is 7.50 and the stdev is 1.96\n"
     ]
    }
   ],
   "source": [
    "xavgAll = statistics.mean(df[\"x\"])\n",
    "xsdAll = statistics.stdev(df[\"x\"])\n",
    "yavgAll = statistics.mean(df[\"y\"])\n",
    "ysdAll = statistics.stdev(df[\"y\"])\n",
    "print(f\"The Average of all x values is {xavgAll:.2F} and the stdev is {xsdAll:.2F}\")\n",
    "print(f\"The Average of all y values is {yavgAll:.2F} and the stdev is {ysdAll:.2F}\")"
   ]
  },
  {
   "cell_type": "code",
   "execution_count": 5,
   "id": "4dae37f9-7af4-4b82-9eb4-f5d2cbaacbad",
   "metadata": {},
   "outputs": [
    {
     "name": "stdout",
     "output_type": "stream",
     "text": [
      "7.500909090909091\n"
     ]
    }
   ],
   "source": [
    "sdI = statistics.mean(df[df[\"dataset\"] == 'I'][\"y\"])\n",
    "avgI = statistics.stdev(df[df[\"dataset\"] == 'I'][\"y\"])"
   ]
  }
 ],
 "metadata": {
  "kernelspec": {
   "display_name": "Python 3 (ipykernel)",
   "language": "python",
   "name": "python3"
  },
  "language_info": {
   "codemirror_mode": {
    "name": "ipython",
    "version": 3
   },
   "file_extension": ".py",
   "mimetype": "text/x-python",
   "name": "python",
   "nbconvert_exporter": "python",
   "pygments_lexer": "ipython3",
   "version": "3.8.16"
  }
 },
 "nbformat": 4,
 "nbformat_minor": 5
}

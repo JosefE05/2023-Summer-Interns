{
 "cells": [
  {
   "cell_type": "code",
   "execution_count": 34,
   "id": "981b5c1c-1893-4caa-966b-e63620e4b26e",
   "metadata": {},
   "outputs": [
    {
     "name": "stdout",
     "output_type": "stream",
     "text": [
      "Cars                  15MPH            45MPH            65MPH            \n",
      "------------------------------------------------------------------\n",
      "Kia EV6              45,903.53       413,131.79       861,966.33\n",
      "Ford F-150           61,330.46       551,974.17     1,151,649.81\n",
      "Fiat 500             33,698.62       303,287.55       632,785.14\n",
      "Dodge Charger        41,529.34       373,764.06       779,828.71\n"
     ]
    }
   ],
   "source": [
    "cars = [\"Kia EV6\", \"Ford F-150\", \"Fiat 500\", \"Dodge Charger\"]\n",
    "vars = [\"Cars\",\"15MPH\",\"45MPH\",\"65MPH\"]\n",
    "masses = [4502,6015,3305,4073]\n",
    "\n",
    "print(f\"{vars[0]:22}{vars[1]:17}{vars[2]:17}{vars[3]:17}\")\n",
    "print(\"------------------------------------------------------------------\")\n",
    "for i in range(4):\n",
    "    Mph15 = 0.5*masses[i]*.4536*(15*.4470)**2\n",
    "    Mph45 = 0.5*masses[i]*.4536*(45*.4470)**2\n",
    "    Mph65 = 0.5*masses[i]*.4536*(65*.4470)**2\n",
    "    print(f\"{cars[i]:13}{Mph15:17,.2F}{Mph45:17,.2F}{Mph65:17,.2F}\")\n"
   ]
  },
  {
   "cell_type": "code",
   "execution_count": null,
   "id": "8a20e540-f08f-4787-98e9-3ae65b04ab41",
   "metadata": {},
   "outputs": [],
   "source": []
  }
 ],
 "metadata": {
  "kernelspec": {
   "display_name": "Python 3 (ipykernel)",
   "language": "python",
   "name": "python3"
  },
  "language_info": {
   "codemirror_mode": {
    "name": "ipython",
    "version": 3
   },
   "file_extension": ".py",
   "mimetype": "text/x-python",
   "name": "python",
   "nbconvert_exporter": "python",
   "pygments_lexer": "ipython3",
   "version": "3.8.16"
  }
 },
 "nbformat": 4,
 "nbformat_minor": 5
}

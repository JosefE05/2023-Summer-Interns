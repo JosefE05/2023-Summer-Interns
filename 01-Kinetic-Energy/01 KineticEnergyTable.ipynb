{
 "cells": [
  {
   "cell_type": "markdown",
   "id": "de41cc15-23e4-4c14-a8ea-03a9c658d54c",
   "metadata": {},
   "source": [
    "# Creating a Kinetic Energy Table\n",
    "\n",
    "**1. We start by inserting the names of the cars as well as their masses into lists, so they can be easily sorted.** "
   ]
  },
  {
   "cell_type": "code",
   "execution_count": 1,
   "id": "0332a4d9-f61e-4755-a4aa-66a961faa7d1",
   "metadata": {},
   "outputs": [],
   "source": [
    "cars = [\"Speeds\",\"Kia EV6\", \"Ford F-150\", \"Fiat 500\", \"Dodge Charger\"]\n",
    "vars = [\"School\",\"Town\",\"Highway\"]\n",
    "masses = [4502,6015,3305,4073]\n",
    "speeds = [14,45,65]"
   ]
  },
  {
   "cell_type": "markdown",
   "id": "8d66af98-2f54-470e-b714-f1dae148f45c",
   "metadata": {},
   "source": [
    "**2. Using the lists, we use fstrings to format a table with the each car**"
   ]
  },
  {
   "cell_type": "code",
   "execution_count": 2,
   "id": "91a5441b-3494-438f-bea6-1e5b3e2fd70f",
   "metadata": {},
   "outputs": [
    {
     "name": "stdout",
     "output_type": "stream",
     "text": [
      "Speeds          Kia EV6       Ford F-150      Fiat 500      Dodge Charger  \n",
      "-------------------------------------------------------------------------\n",
      "School          39,987.08      53,425.65      29,355.24      36,176.67\n",
      "Town           413,131.79     551,974.17     303,287.55     373,764.06\n",
      "Highway        861,966.33   1,151,649.81     632,785.14     779,828.71\n"
     ]
    }
   ],
   "source": [
    "print(f\"{cars[0]:16}{cars[1]:14}{cars[2]:16}{cars[3]:14}{cars[4]:15}\")\n",
    "print(\"-------------------------------------------------------------------------\")\n",
    "for i in range(3):\n",
    "    Car1 = 0.5*masses[0]*.4536*(speeds[i]*.4470)**2\n",
    "    Car2 = 0.5*masses[1]*.4536*(speeds[i]*.4470)**2\n",
    "    Car3 = 0.5*masses[2]*.4536*(speeds[i]*.4470)**2\n",
    "    Car4 = 0.5*masses[3]*.4536*(speeds[i]*.4470)**2\n",
    "    print(f\"{vars[i]:10}{Car1:15,.2F}{Car2:15,.2F}{Car3:15,.2F}{Car4:15,.2F}\")"
   ]
  },
  {
   "cell_type": "markdown",
   "id": "782c2085-65fc-4aeb-940d-556c554b8c7e",
   "metadata": {},
   "source": [
    "## Summary\n",
    "\n",
    "1. I learned a bunch about fstrings\n",
    "2. I gained experience using Jupyter Lab and Markdown\n",
    "3. I learned a lot about formatting text in creative ways to create tables"
   ]
  }
 ],
 "metadata": {
  "kernelspec": {
   "display_name": "Python 3 (ipykernel)",
   "language": "python",
   "name": "python3"
  },
  "language_info": {
   "codemirror_mode": {
    "name": "ipython",
    "version": 3
   },
   "file_extension": ".py",
   "mimetype": "text/x-python",
   "name": "python",
   "nbconvert_exporter": "python",
   "pygments_lexer": "ipython3",
   "version": "3.8.16"
  }
 },
 "nbformat": 4,
 "nbformat_minor": 5
}
